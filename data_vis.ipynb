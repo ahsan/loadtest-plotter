{
 "cells": [
  {
   "cell_type": "code",
   "execution_count": 1,
   "metadata": {},
   "outputs": [],
   "source": [
    "import pandas as pd\n",
    "import seaborn as sns\n",
    "from IPython.display import display, HTML"
   ]
  },
  {
   "cell_type": "code",
   "execution_count": 2,
   "metadata": {},
   "outputs": [],
   "source": [
    "def View(df):\n",
    "    css = \"\"\"<style>\n",
    "    table { border-collapse: collapse; border: 3px solid #eee; }\n",
    "    table tr th:first-child { background-color: #eeeeee; color: #333; font-weight: bold }\n",
    "    table thead th { background-color: #eee; color: #000; }\n",
    "    tr, th, td { border: 1px solid #ccc; border-width: 1px 0 0 1px; border-collapse: collapse;\n",
    "    padding: 3px; font-family: monospace; font-size: 10px }</style>\n",
    "    \"\"\"\n",
    "    s  = '<script type=\"text/Javascript\">'\n",
    "    s += 'var win = window.open(\"\", \"Title\", \"toolbar=no, location=no, directories=no, status=no, menubar=no, scrollbars=yes, resizable=yes, width=780, height=200, top=\"+(screen.height-400)+\", left=\"+(screen.width-840));'\n",
    "    s += 'win.document.body.innerHTML = \\'' + (df.to_html() + css).replace(\"\\n\",'\\\\') + '\\';'\n",
    "    s += '</script>'\n",
    "    return(HTML(s+css))"
   ]
  },
  {
   "cell_type": "code",
   "execution_count": 3,
   "metadata": {},
   "outputs": [],
   "source": [
    "# Set the output files direcrory and file names\n",
    "\n",
    "# data_labels = ['flask', 'node', 'node_new_machine']\n",
    "data_labels = ['label']\n",
    "files_dir = {}\n",
    "files_dir['label'] = './outputs/loadtest_17.02.18_16.11.23/'\n",
    "files_dir['node'] = './outputs/Tue 23 Jan 2018 04:23:57 PM PKT/'\n",
    "files_dir['node_new_machine'] = './outputs/Wed 24 Jan 2018 09:17:48 AM EST/'\n"
   ]
  },
  {
   "cell_type": "code",
   "execution_count": 4,
   "metadata": {},
   "outputs": [],
   "source": [
    "# Regex\n",
    "import re\n",
    "\n",
    "mean_latency_pattern = '(INFO Mean latency: \\s*)(\\d*\\.*\\d*\\s*)(ms)'\n",
    "concurrency_level_pattern = r'(INFO Concurrency level:\\s*)(\\d*)'\n",
    "total_time_pattern = r'(INFO Total time:\\s*)(\\d*.\\d*)(\\s*s)'\n",
    "longest_time_pattern = r'(\\d*)(\\sms\\s)(\\(longest request\\))'\n",
    "cpu_idle_pattern = r'(\\d*:\\d*:\\d*\\s*[AaPp][Mm])(\\s*all\\s*)(\\s+\\d+\\.\\d+)(\\s+\\d+\\.\\d+)(\\s+\\d+\\.\\d+)(\\s+\\d+\\.\\d+)(\\s+\\d+\\.\\d+)(\\s+\\d+\\.\\d+)(\\s+\\d+\\.\\d+)(\\s+\\d+\\.\\d+)(\\s+\\d+\\.\\d+\\s+)(\\d+\\.\\d+)' # pick group 12\n",
    "free_memory_pattern = r'(Mem:\\s*)(\\d*)(\\s*)(\\d*)(\\s*)(\\d*)(\\s*)(\\d*)(\\s*)(\\d*)(\\s*)(\\d*)(\\s*)'\n",
    "free_hdd_pattern = r'(/dev/sda1\\s*)(\\d*.?\\d*[A-Z])(\\s*)(\\d*.?\\d*[A-Z])(\\s*)(\\d*.?\\d*)([A-Z])(\\s*)(\\d*.?\\d*%)(\\s*)(/.*)'"
   ]
  },
  {
   "cell_type": "code",
   "execution_count": 5,
   "metadata": {},
   "outputs": [],
   "source": [
    "# Dictionary that holds all the data\n",
    "results = {}"
   ]
  },
  {
   "cell_type": "markdown",
   "metadata": {},
   "source": [
    "# Data Extractor\n",
    "\n",
    "## Returns\n",
    "A DataFrame object."
   ]
  },
  {
   "cell_type": "code",
   "execution_count": 10,
   "metadata": {},
   "outputs": [],
   "source": [
    "def extract_data(data_title, file_name):\n",
    "    # Data\n",
    "    mean_latencies = []\n",
    "    concurrency_levels = []\n",
    "    total_times = []\n",
    "    longest_times = []\n",
    "    cpu_percentage = []\n",
    "    free_memory = [] # \n",
    "    free_hdd = [] # in GB\n",
    "\n",
    "    with open(file_name) as file:\n",
    "        lines = file.readlines()\n",
    "        for line in lines:    \n",
    "\n",
    "            # Mean Latency\n",
    "            mean_latency_match = re.search(mean_latency_pattern, line)\n",
    "            if(mean_latency_match):\n",
    "                mean_latencies.append(float(mean_latency_match.group(2)))\n",
    "\n",
    "\n",
    "            # Concurrency Level\n",
    "            concurrency_match = re.search(concurrency_level_pattern, line)\n",
    "            if(concurrency_match):\n",
    "                concurrency_levels.append(int(concurrency_match.group(2)))\n",
    "\n",
    "\n",
    "             # Total Time\n",
    "            total_time_match = re.search(total_time_pattern, line)\n",
    "            if(total_time_match):\n",
    "                total_times.append(float(total_time_match.group(2)))\n",
    "\n",
    "\n",
    "            # Longest Time\n",
    "            longest_time_match = re.search(longest_time_pattern, line)\n",
    "            if(longest_time_match):\n",
    "                longest_times.append(int(longest_time_match.group(1)))\n",
    "                \n",
    "            # CPU percentage usage\n",
    "            cpu_idle_match = re.search(cpu_idle_pattern, line)\n",
    "            if(cpu_idle_match):\n",
    "                cpu_percentage.append(100 - float(cpu_idle_match.group(12)))\n",
    "            \n",
    "            # Free memory\n",
    "            free_mem_match = re.search(free_memory_pattern, line)\n",
    "            if(free_mem_match):\n",
    "                free_memory.append(float(free_mem_match.group(6)))\n",
    "                \n",
    "            # Free hdd\n",
    "            free_hdd_match = re.search(free_hdd_pattern, line)\n",
    "            if(free_hdd_match):\n",
    "                free_hdd.append(int(free_hdd_match.group(6)))\n",
    "\n",
    "\n",
    "\n",
    "    # Sanity check\n",
    "    print(file_name + ' Equal lengths: ' + str(len(mean_latencies)==len(concurrency_levels)==len(total_times)==len(longest_times)==len(cpu_percentage)==len(free_memory)==len(free_hdd)))\n",
    "#     print('mean_latencies' + str(len(mean_latencies)))\n",
    "#     print('concurrency_levels' + str(len(concurrency_levels)))\n",
    "#     print('total_times' + str(len(total_times)))\n",
    "#     print('longest_times' + str(len(longest_times)))\n",
    "#     print('cpu_percentage' + str(len(cpu_percentage)))\n",
    "#     print('free_memory' + str(len(free_memory)))\n",
    "#     print('free_hdd' + str(len(free_hdd)))\n",
    "    \n",
    "    if(len(cpu_percentage) == 0):\n",
    "        cpu_percentage = [0]*len(mean_latencies)\n",
    "    \n",
    "    if(len(free_memory) == 0):\n",
    "        free_memory = [0]*len(mean_latencies)\n",
    "    \n",
    "    if(len(free_hdd) == 0):\n",
    "        free_hdd = [0]*len(mean_latencies)\n",
    "    \n",
    "    d = {\n",
    "        'data_title': ([data_title]*len(mean_latencies)), \n",
    "        'concurrency_levels': concurrency_levels, \n",
    "        'mean_latencies': mean_latencies, \n",
    "        'longest_times': longest_times, \n",
    "        'total_times': total_times, \n",
    "        'cpu_percentage': cpu_percentage, \n",
    "        'free_memory': free_memory, \n",
    "        'free_hdd': free_hdd\n",
    "    }\n",
    "    df = pd.DataFrame(data=d)\n",
    "    \n",
    "    return df"
   ]
  },
  {
   "cell_type": "markdown",
   "metadata": {},
   "source": [
    "# Ping"
   ]
  },
  {
   "cell_type": "code",
   "execution_count": 12,
   "metadata": {},
   "outputs": [
    {
     "name": "stdout",
     "output_type": "stream",
     "text": [
      "./outputs/loadtest_17.02.18_16.11.23/output.txt Equal lengths: False\n",
      "mean_latencies2\n",
      "concurrency_levels2\n",
      "total_times2\n",
      "longest_times4\n",
      "cpu_percentage3\n",
      "free_memory3\n",
      "free_hdd3\n"
     ]
    },
    {
     "ename": "ValueError",
     "evalue": "arrays must all be same length",
     "output_type": "error",
     "traceback": [
      "\u001b[0;31m---------------------------------------------------------------------------\u001b[0m",
      "\u001b[0;31mValueError\u001b[0m                                Traceback (most recent call last)",
      "\u001b[0;32m<ipython-input-12-dda6462ca384>\u001b[0m in \u001b[0;36m<module>\u001b[0;34m()\u001b[0m\n\u001b[1;32m      3\u001b[0m \u001b[0;32mfor\u001b[0m \u001b[0mapi\u001b[0m \u001b[0;32min\u001b[0m \u001b[0mdata_labels\u001b[0m\u001b[0;34m:\u001b[0m\u001b[0;34m\u001b[0m\u001b[0m\n\u001b[1;32m      4\u001b[0m     \u001b[0mfile_name\u001b[0m \u001b[0;34m=\u001b[0m \u001b[0mfiles_dir\u001b[0m\u001b[0;34m[\u001b[0m\u001b[0mapi\u001b[0m\u001b[0;34m]\u001b[0m \u001b[0;34m+\u001b[0m \u001b[0;34m'output.txt'\u001b[0m\u001b[0;34m\u001b[0m\u001b[0m\n\u001b[0;32m----> 5\u001b[0;31m     \u001b[0mdataframes\u001b[0m\u001b[0;34m[\u001b[0m\u001b[0mapi\u001b[0m\u001b[0;34m]\u001b[0m \u001b[0;34m=\u001b[0m \u001b[0mextract_data\u001b[0m\u001b[0;34m(\u001b[0m\u001b[0mapi\u001b[0m\u001b[0;34m,\u001b[0m \u001b[0mfile_name\u001b[0m\u001b[0;34m)\u001b[0m\u001b[0;34m\u001b[0m\u001b[0m\n\u001b[0m\u001b[1;32m      6\u001b[0m \u001b[0;34m\u001b[0m\u001b[0m\n\u001b[1;32m      7\u001b[0m \u001b[0;31m# df = dataframes[apis[0]].append([dataframes[apis[1]], dataframes[apis[2]]], ignore_index=True)\u001b[0m\u001b[0;34m\u001b[0m\u001b[0;34m\u001b[0m\u001b[0m\n",
      "\u001b[0;32m<ipython-input-10-e6400653a64b>\u001b[0m in \u001b[0;36mextract_data\u001b[0;34m(data_title, file_name)\u001b[0m\n\u001b[1;32m     82\u001b[0m         \u001b[0;34m'free_hdd'\u001b[0m\u001b[0;34m:\u001b[0m \u001b[0mfree_hdd\u001b[0m\u001b[0;34m\u001b[0m\u001b[0m\n\u001b[1;32m     83\u001b[0m     }\n\u001b[0;32m---> 84\u001b[0;31m     \u001b[0mdf\u001b[0m \u001b[0;34m=\u001b[0m \u001b[0mpd\u001b[0m\u001b[0;34m.\u001b[0m\u001b[0mDataFrame\u001b[0m\u001b[0;34m(\u001b[0m\u001b[0mdata\u001b[0m\u001b[0;34m=\u001b[0m\u001b[0md\u001b[0m\u001b[0;34m)\u001b[0m\u001b[0;34m\u001b[0m\u001b[0m\n\u001b[0m\u001b[1;32m     85\u001b[0m \u001b[0;34m\u001b[0m\u001b[0m\n\u001b[1;32m     86\u001b[0m     \u001b[0;32mreturn\u001b[0m \u001b[0mdf\u001b[0m\u001b[0;34m\u001b[0m\u001b[0m\n",
      "\u001b[0;32m~/.local/lib/python3.5/site-packages/pandas/core/frame.py\u001b[0m in \u001b[0;36m__init__\u001b[0;34m(self, data, index, columns, dtype, copy)\u001b[0m\n\u001b[1;32m    328\u001b[0m                                  dtype=dtype, copy=copy)\n\u001b[1;32m    329\u001b[0m         \u001b[0;32melif\u001b[0m \u001b[0misinstance\u001b[0m\u001b[0;34m(\u001b[0m\u001b[0mdata\u001b[0m\u001b[0;34m,\u001b[0m \u001b[0mdict\u001b[0m\u001b[0;34m)\u001b[0m\u001b[0;34m:\u001b[0m\u001b[0;34m\u001b[0m\u001b[0m\n\u001b[0;32m--> 330\u001b[0;31m             \u001b[0mmgr\u001b[0m \u001b[0;34m=\u001b[0m \u001b[0mself\u001b[0m\u001b[0;34m.\u001b[0m\u001b[0m_init_dict\u001b[0m\u001b[0;34m(\u001b[0m\u001b[0mdata\u001b[0m\u001b[0;34m,\u001b[0m \u001b[0mindex\u001b[0m\u001b[0;34m,\u001b[0m \u001b[0mcolumns\u001b[0m\u001b[0;34m,\u001b[0m \u001b[0mdtype\u001b[0m\u001b[0;34m=\u001b[0m\u001b[0mdtype\u001b[0m\u001b[0;34m)\u001b[0m\u001b[0;34m\u001b[0m\u001b[0m\n\u001b[0m\u001b[1;32m    331\u001b[0m         \u001b[0;32melif\u001b[0m \u001b[0misinstance\u001b[0m\u001b[0;34m(\u001b[0m\u001b[0mdata\u001b[0m\u001b[0;34m,\u001b[0m \u001b[0mma\u001b[0m\u001b[0;34m.\u001b[0m\u001b[0mMaskedArray\u001b[0m\u001b[0;34m)\u001b[0m\u001b[0;34m:\u001b[0m\u001b[0;34m\u001b[0m\u001b[0m\n\u001b[1;32m    332\u001b[0m             \u001b[0;32mimport\u001b[0m \u001b[0mnumpy\u001b[0m\u001b[0;34m.\u001b[0m\u001b[0mma\u001b[0m\u001b[0;34m.\u001b[0m\u001b[0mmrecords\u001b[0m \u001b[0;32mas\u001b[0m \u001b[0mmrecords\u001b[0m\u001b[0;34m\u001b[0m\u001b[0m\n",
      "\u001b[0;32m~/.local/lib/python3.5/site-packages/pandas/core/frame.py\u001b[0m in \u001b[0;36m_init_dict\u001b[0;34m(self, data, index, columns, dtype)\u001b[0m\n\u001b[1;32m    459\u001b[0m             \u001b[0marrays\u001b[0m \u001b[0;34m=\u001b[0m \u001b[0;34m[\u001b[0m\u001b[0mdata\u001b[0m\u001b[0;34m[\u001b[0m\u001b[0mk\u001b[0m\u001b[0;34m]\u001b[0m \u001b[0;32mfor\u001b[0m \u001b[0mk\u001b[0m \u001b[0;32min\u001b[0m \u001b[0mkeys\u001b[0m\u001b[0;34m]\u001b[0m\u001b[0;34m\u001b[0m\u001b[0m\n\u001b[1;32m    460\u001b[0m \u001b[0;34m\u001b[0m\u001b[0m\n\u001b[0;32m--> 461\u001b[0;31m         \u001b[0;32mreturn\u001b[0m \u001b[0m_arrays_to_mgr\u001b[0m\u001b[0;34m(\u001b[0m\u001b[0marrays\u001b[0m\u001b[0;34m,\u001b[0m \u001b[0mdata_names\u001b[0m\u001b[0;34m,\u001b[0m \u001b[0mindex\u001b[0m\u001b[0;34m,\u001b[0m \u001b[0mcolumns\u001b[0m\u001b[0;34m,\u001b[0m \u001b[0mdtype\u001b[0m\u001b[0;34m=\u001b[0m\u001b[0mdtype\u001b[0m\u001b[0;34m)\u001b[0m\u001b[0;34m\u001b[0m\u001b[0m\n\u001b[0m\u001b[1;32m    462\u001b[0m \u001b[0;34m\u001b[0m\u001b[0m\n\u001b[1;32m    463\u001b[0m     \u001b[0;32mdef\u001b[0m \u001b[0m_init_ndarray\u001b[0m\u001b[0;34m(\u001b[0m\u001b[0mself\u001b[0m\u001b[0;34m,\u001b[0m \u001b[0mvalues\u001b[0m\u001b[0;34m,\u001b[0m \u001b[0mindex\u001b[0m\u001b[0;34m,\u001b[0m \u001b[0mcolumns\u001b[0m\u001b[0;34m,\u001b[0m \u001b[0mdtype\u001b[0m\u001b[0;34m=\u001b[0m\u001b[0;32mNone\u001b[0m\u001b[0;34m,\u001b[0m \u001b[0mcopy\u001b[0m\u001b[0;34m=\u001b[0m\u001b[0;32mFalse\u001b[0m\u001b[0;34m)\u001b[0m\u001b[0;34m:\u001b[0m\u001b[0;34m\u001b[0m\u001b[0m\n",
      "\u001b[0;32m~/.local/lib/python3.5/site-packages/pandas/core/frame.py\u001b[0m in \u001b[0;36m_arrays_to_mgr\u001b[0;34m(arrays, arr_names, index, columns, dtype)\u001b[0m\n\u001b[1;32m   6161\u001b[0m     \u001b[0;31m# figure out the index, if necessary\u001b[0m\u001b[0;34m\u001b[0m\u001b[0;34m\u001b[0m\u001b[0m\n\u001b[1;32m   6162\u001b[0m     \u001b[0;32mif\u001b[0m \u001b[0mindex\u001b[0m \u001b[0;32mis\u001b[0m \u001b[0;32mNone\u001b[0m\u001b[0;34m:\u001b[0m\u001b[0;34m\u001b[0m\u001b[0m\n\u001b[0;32m-> 6163\u001b[0;31m         \u001b[0mindex\u001b[0m \u001b[0;34m=\u001b[0m \u001b[0mextract_index\u001b[0m\u001b[0;34m(\u001b[0m\u001b[0marrays\u001b[0m\u001b[0;34m)\u001b[0m\u001b[0;34m\u001b[0m\u001b[0m\n\u001b[0m\u001b[1;32m   6164\u001b[0m     \u001b[0;32melse\u001b[0m\u001b[0;34m:\u001b[0m\u001b[0;34m\u001b[0m\u001b[0m\n\u001b[1;32m   6165\u001b[0m         \u001b[0mindex\u001b[0m \u001b[0;34m=\u001b[0m \u001b[0m_ensure_index\u001b[0m\u001b[0;34m(\u001b[0m\u001b[0mindex\u001b[0m\u001b[0;34m)\u001b[0m\u001b[0;34m\u001b[0m\u001b[0m\n",
      "\u001b[0;32m~/.local/lib/python3.5/site-packages/pandas/core/frame.py\u001b[0m in \u001b[0;36mextract_index\u001b[0;34m(data)\u001b[0m\n\u001b[1;32m   6209\u001b[0m             \u001b[0mlengths\u001b[0m \u001b[0;34m=\u001b[0m \u001b[0mlist\u001b[0m\u001b[0;34m(\u001b[0m\u001b[0mset\u001b[0m\u001b[0;34m(\u001b[0m\u001b[0mraw_lengths\u001b[0m\u001b[0;34m)\u001b[0m\u001b[0;34m)\u001b[0m\u001b[0;34m\u001b[0m\u001b[0m\n\u001b[1;32m   6210\u001b[0m             \u001b[0;32mif\u001b[0m \u001b[0mlen\u001b[0m\u001b[0;34m(\u001b[0m\u001b[0mlengths\u001b[0m\u001b[0;34m)\u001b[0m \u001b[0;34m>\u001b[0m \u001b[0;36m1\u001b[0m\u001b[0;34m:\u001b[0m\u001b[0;34m\u001b[0m\u001b[0m\n\u001b[0;32m-> 6211\u001b[0;31m                 \u001b[0;32mraise\u001b[0m \u001b[0mValueError\u001b[0m\u001b[0;34m(\u001b[0m\u001b[0;34m'arrays must all be same length'\u001b[0m\u001b[0;34m)\u001b[0m\u001b[0;34m\u001b[0m\u001b[0m\n\u001b[0m\u001b[1;32m   6212\u001b[0m \u001b[0;34m\u001b[0m\u001b[0m\n\u001b[1;32m   6213\u001b[0m             \u001b[0;32mif\u001b[0m \u001b[0mhave_dicts\u001b[0m\u001b[0;34m:\u001b[0m\u001b[0;34m\u001b[0m\u001b[0m\n",
      "\u001b[0;31mValueError\u001b[0m: arrays must all be same length"
     ]
    }
   ],
   "source": [
    "# Ping file\n",
    "dataframes = {}\n",
    "for api in data_labels:\n",
    "    file_name = files_dir[api] + 'output.txt'\n",
    "    dataframes[api] = extract_data(api, file_name)\n",
    "\n",
    "# df = dataframes[apis[0]].append([dataframes[apis[1]], dataframes[apis[2]]], ignore_index=True)\n",
    "df = dataframes[apis[0]]\n",
    "results['ping'] = df\n",
    "\n",
    "View(df)"
   ]
  },
  {
   "cell_type": "markdown",
   "metadata": {},
   "source": [
    "# Visualization"
   ]
  },
  {
   "cell_type": "markdown",
   "metadata": {},
   "source": [
    "## Ping"
   ]
  },
  {
   "cell_type": "code",
   "execution_count": 13,
   "metadata": {
    "scrolled": true
   },
   "outputs": [
    {
     "ename": "KeyError",
     "evalue": "'ping'",
     "output_type": "error",
     "traceback": [
      "\u001b[0;31m---------------------------------------------------------------------------\u001b[0m",
      "\u001b[0;31mKeyError\u001b[0m                                  Traceback (most recent call last)",
      "\u001b[0;32m<ipython-input-13-1f088eb6b7a6>\u001b[0m in \u001b[0;36m<module>\u001b[0;34m()\u001b[0m\n\u001b[1;32m      2\u001b[0m \u001b[0msns\u001b[0m\u001b[0;34m.\u001b[0m\u001b[0mset\u001b[0m\u001b[0;34m(\u001b[0m\u001b[0mstyle\u001b[0m\u001b[0;34m=\u001b[0m\u001b[0;34m\"whitegrid\"\u001b[0m\u001b[0;34m)\u001b[0m\u001b[0;34m\u001b[0m\u001b[0m\n\u001b[1;32m      3\u001b[0m \u001b[0msns\u001b[0m\u001b[0;34m.\u001b[0m\u001b[0mset\u001b[0m\u001b[0;34m(\u001b[0m\u001b[0mfont_scale\u001b[0m\u001b[0;34m=\u001b[0m\u001b[0;36m1.5\u001b[0m\u001b[0;34m)\u001b[0m\u001b[0;34m\u001b[0m\u001b[0m\n\u001b[0;32m----> 4\u001b[0;31m g = sns.lmplot(x=\"concurrency_levels\", y=\"mean_latencies\", hue=\"data_title\", data=results['ping'],\n\u001b[0m\u001b[1;32m      5\u001b[0m                     size=8, palette=\"mako\")\n\u001b[1;32m      6\u001b[0m \u001b[0mg\u001b[0m\u001b[0;34m.\u001b[0m\u001b[0mdespine\u001b[0m\u001b[0;34m(\u001b[0m\u001b[0mleft\u001b[0m\u001b[0;34m=\u001b[0m\u001b[0;32mTrue\u001b[0m\u001b[0;34m)\u001b[0m\u001b[0;34m\u001b[0m\u001b[0m\n",
      "\u001b[0;31mKeyError\u001b[0m: 'ping'"
     ]
    }
   ],
   "source": [
    "# MEAN LATENCY\n",
    "sns.set(style=\"whitegrid\")\n",
    "sns.set(font_scale=1.5)\n",
    "g = sns.lmplot(x=\"concurrency_levels\", y=\"mean_latencies\", hue=\"data_title\", data=results['ping'],\n",
    "                    size=8, palette=\"mako\")\n",
    "g.despine(left=True)\n",
    "g.set_ylabels(\"Mean Latency (ms)\")\n",
    "g.set_xlabels(\"Concurrency\")\n",
    "g.axes[0,0].set_ylim(0,)\n",
    "g.axes[0,0].set_xlim(0,50)"
   ]
  },
  {
   "cell_type": "code",
   "execution_count": 14,
   "metadata": {
    "scrolled": true
   },
   "outputs": [
    {
     "ename": "KeyError",
     "evalue": "'ping'",
     "output_type": "error",
     "traceback": [
      "\u001b[0;31m---------------------------------------------------------------------------\u001b[0m",
      "\u001b[0;31mKeyError\u001b[0m                                  Traceback (most recent call last)",
      "\u001b[0;32m<ipython-input-14-959f13b5933e>\u001b[0m in \u001b[0;36m<module>\u001b[0;34m()\u001b[0m\n\u001b[1;32m      2\u001b[0m \u001b[0msns\u001b[0m\u001b[0;34m.\u001b[0m\u001b[0mset\u001b[0m\u001b[0;34m(\u001b[0m\u001b[0mstyle\u001b[0m\u001b[0;34m=\u001b[0m\u001b[0;34m\"whitegrid\"\u001b[0m\u001b[0;34m)\u001b[0m\u001b[0;34m\u001b[0m\u001b[0m\n\u001b[1;32m      3\u001b[0m \u001b[0msns\u001b[0m\u001b[0;34m.\u001b[0m\u001b[0mset\u001b[0m\u001b[0;34m(\u001b[0m\u001b[0mfont_scale\u001b[0m\u001b[0;34m=\u001b[0m\u001b[0;36m1.5\u001b[0m\u001b[0;34m)\u001b[0m\u001b[0;34m\u001b[0m\u001b[0m\n\u001b[0;32m----> 4\u001b[0;31m g = sns.lmplot(x=\"concurrency_levels\", y=\"longest_times\", hue=\"data_title\", data=results['ping'],\n\u001b[0m\u001b[1;32m      5\u001b[0m                     size=8, palette=\"mako\")\n\u001b[1;32m      6\u001b[0m \u001b[0mg\u001b[0m\u001b[0;34m.\u001b[0m\u001b[0mdespine\u001b[0m\u001b[0;34m(\u001b[0m\u001b[0mleft\u001b[0m\u001b[0;34m=\u001b[0m\u001b[0;32mTrue\u001b[0m\u001b[0;34m)\u001b[0m\u001b[0;34m\u001b[0m\u001b[0m\n",
      "\u001b[0;31mKeyError\u001b[0m: 'ping'"
     ]
    }
   ],
   "source": [
    "# LONGEST TIME\n",
    "sns.set(style=\"whitegrid\")\n",
    "sns.set(font_scale=1.5)\n",
    "g = sns.lmplot(x=\"concurrency_levels\", y=\"longest_times\", hue=\"data_title\", data=results['ping'],\n",
    "                    size=8, palette=\"mako\")\n",
    "g.despine(left=True)\n",
    "g.set_ylabels(\"Longest Request (ms)\")\n",
    "g.set_xlabels(\"Concurrency\")\n",
    "g.axes[0,0].set_ylim(0,)\n",
    "g.axes[0,0].set_xlim(0,50)"
   ]
  },
  {
   "cell_type": "code",
   "execution_count": 15,
   "metadata": {
    "scrolled": true
   },
   "outputs": [
    {
     "ename": "KeyError",
     "evalue": "'ping'",
     "output_type": "error",
     "traceback": [
      "\u001b[0;31m---------------------------------------------------------------------------\u001b[0m",
      "\u001b[0;31mKeyError\u001b[0m                                  Traceback (most recent call last)",
      "\u001b[0;32m<ipython-input-15-a6ba91920701>\u001b[0m in \u001b[0;36m<module>\u001b[0;34m()\u001b[0m\n\u001b[1;32m      2\u001b[0m \u001b[0msns\u001b[0m\u001b[0;34m.\u001b[0m\u001b[0mset\u001b[0m\u001b[0;34m(\u001b[0m\u001b[0mstyle\u001b[0m\u001b[0;34m=\u001b[0m\u001b[0;34m\"whitegrid\"\u001b[0m\u001b[0;34m)\u001b[0m\u001b[0;34m\u001b[0m\u001b[0m\n\u001b[1;32m      3\u001b[0m \u001b[0msns\u001b[0m\u001b[0;34m.\u001b[0m\u001b[0mset\u001b[0m\u001b[0;34m(\u001b[0m\u001b[0mfont_scale\u001b[0m\u001b[0;34m=\u001b[0m\u001b[0;36m1.5\u001b[0m\u001b[0;34m)\u001b[0m\u001b[0;34m\u001b[0m\u001b[0m\n\u001b[0;32m----> 4\u001b[0;31m g = sns.lmplot(x=\"concurrency_levels\", y=\"total_times\", hue=\"data_title\", data=results['ping'],\n\u001b[0m\u001b[1;32m      5\u001b[0m                     size=8, palette=\"mako\")\n\u001b[1;32m      6\u001b[0m \u001b[0mg\u001b[0m\u001b[0;34m.\u001b[0m\u001b[0mdespine\u001b[0m\u001b[0;34m(\u001b[0m\u001b[0mleft\u001b[0m\u001b[0;34m=\u001b[0m\u001b[0;32mTrue\u001b[0m\u001b[0;34m)\u001b[0m\u001b[0;34m\u001b[0m\u001b[0m\n",
      "\u001b[0;31mKeyError\u001b[0m: 'ping'"
     ]
    }
   ],
   "source": [
    "# Total Time\n",
    "sns.set(style=\"whitegrid\")\n",
    "sns.set(font_scale=1.5)\n",
    "g = sns.lmplot(x=\"concurrency_levels\", y=\"total_times\", hue=\"data_title\", data=results['ping'],\n",
    "                    size=8, palette=\"mako\")\n",
    "g.despine(left=True)\n",
    "g.set_ylabels(\"Total Time for 250 Requests (sec)\")\n",
    "g.set_xlabels(\"Concurrency\")\n",
    "g.axes[0,0].set_ylim(0,)\n",
    "g.axes[0,0].set_xlim(0,50)"
   ]
  },
  {
   "cell_type": "code",
   "execution_count": 16,
   "metadata": {
    "scrolled": true
   },
   "outputs": [
    {
     "ename": "KeyError",
     "evalue": "'ping'",
     "output_type": "error",
     "traceback": [
      "\u001b[0;31m---------------------------------------------------------------------------\u001b[0m",
      "\u001b[0;31mKeyError\u001b[0m                                  Traceback (most recent call last)",
      "\u001b[0;32m<ipython-input-16-89c21ab03b67>\u001b[0m in \u001b[0;36m<module>\u001b[0;34m()\u001b[0m\n\u001b[1;32m      3\u001b[0m \u001b[0msns\u001b[0m\u001b[0;34m.\u001b[0m\u001b[0mset\u001b[0m\u001b[0;34m(\u001b[0m\u001b[0mstyle\u001b[0m\u001b[0;34m=\u001b[0m\u001b[0;34m\"whitegrid\"\u001b[0m\u001b[0;34m)\u001b[0m\u001b[0;34m\u001b[0m\u001b[0m\n\u001b[1;32m      4\u001b[0m \u001b[0msns\u001b[0m\u001b[0;34m.\u001b[0m\u001b[0mset\u001b[0m\u001b[0;34m(\u001b[0m\u001b[0mfont_scale\u001b[0m\u001b[0;34m=\u001b[0m\u001b[0;36m1.5\u001b[0m\u001b[0;34m)\u001b[0m\u001b[0;34m\u001b[0m\u001b[0m\n\u001b[0;32m----> 5\u001b[0;31m g = sns.lmplot(x=\"concurrency_levels\", y=\"free_memory\", hue=\"data_title\", data=results['ping'],\n\u001b[0m\u001b[1;32m      6\u001b[0m                     size=8, palette=\"mako\")\n\u001b[1;32m      7\u001b[0m \u001b[0mg\u001b[0m\u001b[0;34m.\u001b[0m\u001b[0mdespine\u001b[0m\u001b[0;34m(\u001b[0m\u001b[0mleft\u001b[0m\u001b[0;34m=\u001b[0m\u001b[0;32mTrue\u001b[0m\u001b[0;34m)\u001b[0m\u001b[0;34m\u001b[0m\u001b[0m\n",
      "\u001b[0;31mKeyError\u001b[0m: 'ping'"
     ]
    }
   ],
   "source": [
    "# Memory usage\n",
    "\n",
    "sns.set(style=\"whitegrid\")\n",
    "sns.set(font_scale=1.5)\n",
    "g = sns.lmplot(x=\"concurrency_levels\", y=\"free_memory\", hue=\"data_title\", data=results['ping'],\n",
    "                    size=8, palette=\"mako\")\n",
    "g.despine(left=True)\n",
    "g.set_ylabels(\"Free Memory in MBs\")\n",
    "g.set_xlabels(\"Concurrency\")\n",
    "g.axes[0,0].set_ylim(29560,29620)\n",
    "g.axes[0,0].set_xlim(0,50)"
   ]
  },
  {
   "cell_type": "code",
   "execution_count": 17,
   "metadata": {
    "scrolled": true
   },
   "outputs": [
    {
     "ename": "KeyError",
     "evalue": "'ping'",
     "output_type": "error",
     "traceback": [
      "\u001b[0;31m---------------------------------------------------------------------------\u001b[0m",
      "\u001b[0;31mKeyError\u001b[0m                                  Traceback (most recent call last)",
      "\u001b[0;32m<ipython-input-17-80a583668660>\u001b[0m in \u001b[0;36m<module>\u001b[0;34m()\u001b[0m\n\u001b[1;32m      3\u001b[0m \u001b[0msns\u001b[0m\u001b[0;34m.\u001b[0m\u001b[0mset\u001b[0m\u001b[0;34m(\u001b[0m\u001b[0mstyle\u001b[0m\u001b[0;34m=\u001b[0m\u001b[0;34m\"whitegrid\"\u001b[0m\u001b[0;34m)\u001b[0m\u001b[0;34m\u001b[0m\u001b[0m\n\u001b[1;32m      4\u001b[0m \u001b[0msns\u001b[0m\u001b[0;34m.\u001b[0m\u001b[0mset\u001b[0m\u001b[0;34m(\u001b[0m\u001b[0mfont_scale\u001b[0m\u001b[0;34m=\u001b[0m\u001b[0;36m1.5\u001b[0m\u001b[0;34m)\u001b[0m\u001b[0;34m\u001b[0m\u001b[0m\n\u001b[0;32m----> 5\u001b[0;31m g = sns.lmplot(x=\"concurrency_levels\", y=\"cpu_percentage\", hue=\"data_title\", data=results['ping'],\n\u001b[0m\u001b[1;32m      6\u001b[0m                     size=8, palette=\"mako\")\n\u001b[1;32m      7\u001b[0m \u001b[0mg\u001b[0m\u001b[0;34m.\u001b[0m\u001b[0mdespine\u001b[0m\u001b[0;34m(\u001b[0m\u001b[0mleft\u001b[0m\u001b[0;34m=\u001b[0m\u001b[0;32mTrue\u001b[0m\u001b[0;34m)\u001b[0m\u001b[0;34m\u001b[0m\u001b[0m\n",
      "\u001b[0;31mKeyError\u001b[0m: 'ping'"
     ]
    }
   ],
   "source": [
    "# CPU Percentage\n",
    "\n",
    "sns.set(style=\"whitegrid\")\n",
    "sns.set(font_scale=1.5)\n",
    "g = sns.lmplot(x=\"concurrency_levels\", y=\"cpu_percentage\", hue=\"data_title\", data=results['ping'],\n",
    "                    size=8, palette=\"mako\")\n",
    "g.despine(left=True)\n",
    "g.set_ylabels(\"Percentage CPU Usage\")\n",
    "g.set_xlabels(\"Concurrency\")\n",
    "g.axes[0,0].set_ylim(0,5)\n",
    "g.axes[0,0].set_xlim(0,50)"
   ]
  },
  {
   "cell_type": "code",
   "execution_count": 18,
   "metadata": {},
   "outputs": [
    {
     "ename": "KeyError",
     "evalue": "'ping'",
     "output_type": "error",
     "traceback": [
      "\u001b[0;31m---------------------------------------------------------------------------\u001b[0m",
      "\u001b[0;31mKeyError\u001b[0m                                  Traceback (most recent call last)",
      "\u001b[0;32m<ipython-input-18-be1a1e908608>\u001b[0m in \u001b[0;36m<module>\u001b[0;34m()\u001b[0m\n\u001b[1;32m      3\u001b[0m \u001b[0msns\u001b[0m\u001b[0;34m.\u001b[0m\u001b[0mset\u001b[0m\u001b[0;34m(\u001b[0m\u001b[0mstyle\u001b[0m\u001b[0;34m=\u001b[0m\u001b[0;34m\"whitegrid\"\u001b[0m\u001b[0;34m)\u001b[0m\u001b[0;34m\u001b[0m\u001b[0m\n\u001b[1;32m      4\u001b[0m \u001b[0msns\u001b[0m\u001b[0;34m.\u001b[0m\u001b[0mset\u001b[0m\u001b[0;34m(\u001b[0m\u001b[0mfont_scale\u001b[0m\u001b[0;34m=\u001b[0m\u001b[0;36m1.5\u001b[0m\u001b[0;34m)\u001b[0m\u001b[0;34m\u001b[0m\u001b[0m\n\u001b[0;32m----> 5\u001b[0;31m g = sns.lmplot(x=\"concurrency_levels\", y=\"free_hdd\", hue=\"data_title\", data=results['ping'],\n\u001b[0m\u001b[1;32m      6\u001b[0m                     size=8, palette=\"mako\")\n\u001b[1;32m      7\u001b[0m \u001b[0mg\u001b[0m\u001b[0;34m.\u001b[0m\u001b[0mdespine\u001b[0m\u001b[0;34m(\u001b[0m\u001b[0mleft\u001b[0m\u001b[0;34m=\u001b[0m\u001b[0;32mTrue\u001b[0m\u001b[0;34m)\u001b[0m\u001b[0;34m\u001b[0m\u001b[0m\n",
      "\u001b[0;31mKeyError\u001b[0m: 'ping'"
     ]
    }
   ],
   "source": [
    "# HDD Usage\n",
    "\n",
    "sns.set(style=\"whitegrid\")\n",
    "sns.set(font_scale=1.5)\n",
    "g = sns.lmplot(x=\"concurrency_levels\", y=\"free_hdd\", hue=\"data_title\", data=results['ping'],\n",
    "                    size=8, palette=\"mako\")\n",
    "g.despine(left=True)\n",
    "g.set_ylabels(\"Free HDD in GBs\")\n",
    "g.set_xlabels(\"Concurrency\")\n",
    "g.axes[0,0].set_ylim(859,861)\n",
    "g.axes[0,0].set_xlim(0,50)"
   ]
  },
  {
   "cell_type": "code",
   "execution_count": null,
   "metadata": {},
   "outputs": [],
   "source": []
  }
 ],
 "metadata": {
  "kernelspec": {
   "display_name": "Python 3",
   "language": "python",
   "name": "python3"
  },
  "language_info": {
   "codemirror_mode": {
    "name": "ipython",
    "version": 3
   },
   "file_extension": ".py",
   "mimetype": "text/x-python",
   "name": "python",
   "nbconvert_exporter": "python",
   "pygments_lexer": "ipython3",
   "version": "3.5.2"
  }
 },
 "nbformat": 4,
 "nbformat_minor": 2
}
