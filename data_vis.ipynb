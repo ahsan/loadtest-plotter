{
 "cells": [
  {
   "cell_type": "code",
   "execution_count": null,
   "metadata": {},
   "outputs": [],
   "source": [
    "import pandas as pd\n",
    "import seaborn as sns\n",
    "from IPython.display import display, HTML"
   ]
  },
  {
   "cell_type": "code",
   "execution_count": null,
   "metadata": {},
   "outputs": [],
   "source": [
    "def View(df):\n",
    "    css = \"\"\"<style>\n",
    "    table { border-collapse: collapse; border: 3px solid #eee; }\n",
    "    table tr th:first-child { background-color: #eeeeee; color: #333; font-weight: bold }\n",
    "    table thead th { background-color: #eee; color: #000; }\n",
    "    tr, th, td { border: 1px solid #ccc; border-width: 1px 0 0 1px; border-collapse: collapse;\n",
    "    padding: 3px; font-family: monospace; font-size: 10px }</style>\n",
    "    \"\"\"\n",
    "    s  = '<script type=\"text/Javascript\">'\n",
    "    s += 'var win = window.open(\"\", \"Title\", \"toolbar=no, location=no, directories=no, status=no, menubar=no, scrollbars=yes, resizable=yes, width=780, height=200, top=\"+(screen.height-400)+\", left=\"+(screen.width-840));'\n",
    "    s += 'win.document.body.innerHTML = \\'' + (df.to_html() + css).replace(\"\\n\",'\\\\') + '\\';'\n",
    "    s += '</script>'\n",
    "    return(HTML(s+css))"
   ]
  },
  {
   "cell_type": "code",
   "execution_count": null,
   "metadata": {},
   "outputs": [],
   "source": [
    "# Set the output files direcrory and file names\n",
    "\n",
    "# data_labels = ['flask', 'node', 'node_new_machine']\n",
    "data_labels = ['label']\n",
    "files_dir = {}\n",
    "files_dir['label'] = './outputs/loadtest_17.02.18_16.11.23/'\n",
    "files_dir['node'] = './outputs/Tue 23 Jan 2018 04:23:57 PM PKT/'\n",
    "files_dir['node_new_machine'] = './outputs/Wed 24 Jan 2018 09:17:48 AM EST/'\n"
   ]
  },
  {
   "cell_type": "code",
   "execution_count": null,
   "metadata": {},
   "outputs": [],
   "source": [
    "# Regex\n",
    "import re\n",
    "\n",
    "mean_latency_pattern = '(INFO Mean latency: \\s*)(\\d*\\.*\\d*\\s*)(ms)'\n",
    "concurrency_level_pattern = r'(INFO Concurrency level:\\s*)(\\d*)'\n",
    "total_time_pattern = r'(INFO Total time:\\s*)(\\d*.\\d*)(\\s*s)'\n",
    "longest_time_pattern = r'(\\d*)(\\sms\\s)(\\(longest request\\))'\n",
    "cpu_idle_pattern = r'(\\d*:\\d*:\\d*\\s*[AaPp][Mm])(\\s*all\\s*)(\\s+\\d+\\.\\d+)(\\s+\\d+\\.\\d+)(\\s+\\d+\\.\\d+)(\\s+\\d+\\.\\d+)(\\s+\\d+\\.\\d+)(\\s+\\d+\\.\\d+)(\\s+\\d+\\.\\d+)(\\s+\\d+\\.\\d+)(\\s+\\d+\\.\\d+\\s+)(\\d+\\.\\d+)' # pick group 12\n",
    "free_memory_pattern = r'(Mem:\\s*)(\\d*)(\\s*)(\\d*)(\\s*)(\\d*)(\\s*)(\\d*)(\\s*)(\\d*)(\\s*)(\\d*)(\\s*)'\n",
    "free_hdd_pattern = r'(/dev/sda1\\s*)(\\d*.?\\d*[A-Z])(\\s*)(\\d*.?\\d*[A-Z])(\\s*)(\\d*.?\\d*)([A-Z])(\\s*)(\\d*.?\\d*%)(\\s*)(/.*)'"
   ]
  },
  {
   "cell_type": "code",
   "execution_count": null,
   "metadata": {},
   "outputs": [],
   "source": [
    "# Dictionary that holds all the data\n",
    "results = {}"
   ]
  },
  {
   "cell_type": "markdown",
   "metadata": {},
   "source": [
    "# Data Extractor\n",
    "\n",
    "## Returns\n",
    "A DataFrame object."
   ]
  },
  {
   "cell_type": "code",
   "execution_count": null,
   "metadata": {},
   "outputs": [],
   "source": [
    "def extract_data(data_title, file_name):\n",
    "    # Data\n",
    "    mean_latencies = []\n",
    "    concurrency_levels = []\n",
    "    total_times = []\n",
    "    longest_times = []\n",
    "    cpu_percentage = []\n",
    "    free_memory = [] # \n",
    "    free_hdd = [] # in GB\n",
    "\n",
    "    with open(file_name) as file:\n",
    "        lines = file.readlines()\n",
    "        for line in lines:    \n",
    "\n",
    "            # Mean Latency\n",
    "            mean_latency_match = re.search(mean_latency_pattern, line)\n",
    "            if(mean_latency_match):\n",
    "                mean_latencies.append(float(mean_latency_match.group(2)))\n",
    "\n",
    "\n",
    "            # Concurrency Level\n",
    "            concurrency_match = re.search(concurrency_level_pattern, line)\n",
    "            if(concurrency_match):\n",
    "                concurrency_levels.append(int(concurrency_match.group(2)))\n",
    "\n",
    "\n",
    "             # Total Time\n",
    "            total_time_match = re.search(total_time_pattern, line)\n",
    "            if(total_time_match):\n",
    "                total_times.append(float(total_time_match.group(2)))\n",
    "\n",
    "\n",
    "            # Longest Time\n",
    "            longest_time_match = re.search(longest_time_pattern, line)\n",
    "            if(longest_time_match):\n",
    "                longest_times.append(int(longest_time_match.group(1)))\n",
    "                \n",
    "            # CPU percentage usage\n",
    "            cpu_idle_match = re.search(cpu_idle_pattern, line)\n",
    "            if(cpu_idle_match):\n",
    "                cpu_percentage.append(100 - float(cpu_idle_match.group(12)))\n",
    "            \n",
    "            # Free memory\n",
    "            free_mem_match = re.search(free_memory_pattern, line)\n",
    "            if(free_mem_match):\n",
    "                free_memory.append(float(free_mem_match.group(6)))\n",
    "                \n",
    "            # Free hdd\n",
    "            free_hdd_match = re.search(free_hdd_pattern, line)\n",
    "            if(free_hdd_match):\n",
    "                free_hdd.append(int(free_hdd_match.group(6)))\n",
    "\n",
    "\n",
    "\n",
    "    # Sanity check\n",
    "    print(file_name + ' Equal lengths: ' + str(len(mean_latencies)==len(concurrency_levels)==len(total_times)==len(longest_times)==len(cpu_percentage)==len(free_memory)==len(free_hdd)))\n",
    "#     print('mean_latencies' + str(len(mean_latencies)))\n",
    "#     print('concurrency_levels' + str(len(concurrency_levels)))\n",
    "#     print('total_times' + str(len(total_times)))\n",
    "#     print('longest_times' + str(len(longest_times)))\n",
    "#     print('cpu_percentage' + str(len(cpu_percentage)))\n",
    "#     print('free_memory' + str(len(free_memory)))\n",
    "#     print('free_hdd' + str(len(free_hdd)))\n",
    "    \n",
    "    if(len(cpu_percentage) == 0):\n",
    "        cpu_percentage = [0]*len(mean_latencies)\n",
    "    \n",
    "    if(len(free_memory) == 0):\n",
    "        free_memory = [0]*len(mean_latencies)\n",
    "    \n",
    "    if(len(free_hdd) == 0):\n",
    "        free_hdd = [0]*len(mean_latencies)\n",
    "    \n",
    "    d = {\n",
    "        'data_title': ([data_title]*len(mean_latencies)), \n",
    "        'concurrency_levels': concurrency_levels, \n",
    "        'mean_latencies': mean_latencies, \n",
    "        'longest_times': longest_times, \n",
    "        'total_times': total_times, \n",
    "        'cpu_percentage': cpu_percentage, \n",
    "        'free_memory': free_memory, \n",
    "        'free_hdd': free_hdd\n",
    "    }\n",
    "    df = pd.DataFrame(data=d)\n",
    "    \n",
    "    return df"
   ]
  },
  {
   "cell_type": "markdown",
   "metadata": {},
   "source": [
    "# Ping"
   ]
  },
  {
   "cell_type": "code",
   "execution_count": null,
   "metadata": {},
   "outputs": [],
   "source": [
    "# Ping file\n",
    "dataframes = {}\n",
    "for api in data_labels:\n",
    "    file_name = files_dir[api] + 'output.txt'\n",
    "    dataframes[api] = extract_data(api, file_name)\n",
    "\n",
    "# df = dataframes[apis[0]].append([dataframes[apis[1]], dataframes[apis[2]]], ignore_index=True)\n",
    "df = dataframes[apis[0]]\n",
    "results['ping'] = df\n",
    "\n",
    "View(df)"
   ]
  },
  {
   "cell_type": "markdown",
   "metadata": {},
   "source": [
    "# Visualization"
   ]
  },
  {
   "cell_type": "markdown",
   "metadata": {},
   "source": [
    "## Ping"
   ]
  },
  {
   "cell_type": "code",
   "execution_count": null,
   "metadata": {
    "scrolled": true
   },
   "outputs": [],
   "source": [
    "# MEAN LATENCY\n",
    "sns.set(style=\"whitegrid\")\n",
    "sns.set(font_scale=1.5)\n",
    "g = sns.lmplot(x=\"concurrency_levels\", y=\"mean_latencies\", hue=\"data_title\", data=results['ping'],\n",
    "                    size=8, palette=\"mako\")\n",
    "g.despine(left=True)\n",
    "g.set_ylabels(\"Mean Latency (ms)\")\n",
    "g.set_xlabels(\"Concurrency\")\n",
    "g.axes[0,0].set_ylim(0,)\n",
    "g.axes[0,0].set_xlim(0,50)"
   ]
  },
  {
   "cell_type": "code",
   "execution_count": null,
   "metadata": {
    "scrolled": true
   },
   "outputs": [],
   "source": [
    "# LONGEST TIME\n",
    "sns.set(style=\"whitegrid\")\n",
    "sns.set(font_scale=1.5)\n",
    "g = sns.lmplot(x=\"concurrency_levels\", y=\"longest_times\", hue=\"data_title\", data=results['ping'],\n",
    "                    size=8, palette=\"mako\")\n",
    "g.despine(left=True)\n",
    "g.set_ylabels(\"Longest Request (ms)\")\n",
    "g.set_xlabels(\"Concurrency\")\n",
    "g.axes[0,0].set_ylim(0,)\n",
    "g.axes[0,0].set_xlim(0,50)"
   ]
  },
  {
   "cell_type": "code",
   "execution_count": null,
   "metadata": {
    "scrolled": true
   },
   "outputs": [],
   "source": [
    "# Total Time\n",
    "sns.set(style=\"whitegrid\")\n",
    "sns.set(font_scale=1.5)\n",
    "g = sns.lmplot(x=\"concurrency_levels\", y=\"total_times\", hue=\"data_title\", data=results['ping'],\n",
    "                    size=8, palette=\"mako\")\n",
    "g.despine(left=True)\n",
    "g.set_ylabels(\"Total Time for 250 Requests (sec)\")\n",
    "g.set_xlabels(\"Concurrency\")\n",
    "g.axes[0,0].set_ylim(0,)\n",
    "g.axes[0,0].set_xlim(0,50)"
   ]
  },
  {
   "cell_type": "code",
   "execution_count": null,
   "metadata": {
    "scrolled": true
   },
   "outputs": [],
   "source": [
    "# Memory usage\n",
    "\n",
    "sns.set(style=\"whitegrid\")\n",
    "sns.set(font_scale=1.5)\n",
    "g = sns.lmplot(x=\"concurrency_levels\", y=\"free_memory\", hue=\"data_title\", data=results['ping'],\n",
    "                    size=8, palette=\"mako\")\n",
    "g.despine(left=True)\n",
    "g.set_ylabels(\"Free Memory in MBs\")\n",
    "g.set_xlabels(\"Concurrency\")\n",
    "g.axes[0,0].set_ylim(29560,29620)\n",
    "g.axes[0,0].set_xlim(0,50)"
   ]
  },
  {
   "cell_type": "code",
   "execution_count": null,
   "metadata": {
    "scrolled": true
   },
   "outputs": [],
   "source": [
    "# CPU Percentage\n",
    "\n",
    "sns.set(style=\"whitegrid\")\n",
    "sns.set(font_scale=1.5)\n",
    "g = sns.lmplot(x=\"concurrency_levels\", y=\"cpu_percentage\", hue=\"data_title\", data=results['ping'],\n",
    "                    size=8, palette=\"mako\")\n",
    "g.despine(left=True)\n",
    "g.set_ylabels(\"Percentage CPU Usage\")\n",
    "g.set_xlabels(\"Concurrency\")\n",
    "g.axes[0,0].set_ylim(0,5)\n",
    "g.axes[0,0].set_xlim(0,50)"
   ]
  },
  {
   "cell_type": "code",
   "execution_count": null,
   "metadata": {},
   "outputs": [],
   "source": [
    "# HDD Usage\n",
    "\n",
    "sns.set(style=\"whitegrid\")\n",
    "sns.set(font_scale=1.5)\n",
    "g = sns.lmplot(x=\"concurrency_levels\", y=\"free_hdd\", hue=\"data_title\", data=results['ping'],\n",
    "                    size=8, palette=\"mako\")\n",
    "g.despine(left=True)\n",
    "g.set_ylabels(\"Free HDD in GBs\")\n",
    "g.set_xlabels(\"Concurrency\")\n",
    "g.axes[0,0].set_ylim(859,861)\n",
    "g.axes[0,0].set_xlim(0,50)"
   ]
  },
  {
   "cell_type": "code",
   "execution_count": null,
   "metadata": {},
   "outputs": [],
   "source": []
  }
 ],
 "metadata": {
  "kernelspec": {
   "display_name": "Python 3",
   "language": "python",
   "name": "python3"
  },
  "language_info": {
   "codemirror_mode": {
    "name": "ipython",
    "version": 3
   },
   "file_extension": ".py",
   "mimetype": "text/x-python",
   "name": "python",
   "nbconvert_exporter": "python",
   "pygments_lexer": "ipython3",
   "version": "3.5.2"
  }
 },
 "nbformat": 4,
 "nbformat_minor": 2
}
